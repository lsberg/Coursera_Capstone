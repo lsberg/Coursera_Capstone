{
 "cells": [
  {
   "cell_type": "markdown",
   "metadata": {
    "collapsed": true
   },
   "source": [
    "# COURSERA CAPSTONE PROJECT\n",
    "\n",
    "### This notebook will be used primarily for the capstone project"
   ]
  },
  {
   "cell_type": "code",
   "execution_count": 3,
   "metadata": {},
   "outputs": [],
   "source": [
    "# Importing packages\n",
    "import pandas as pd\n",
    "import numpy as np"
   ]
  },
  {
   "cell_type": "code",
   "execution_count": 2,
   "metadata": {},
   "outputs": [
    {
     "name": "stdout",
     "output_type": "stream",
     "text": [
      "Hello Capstone Project Course\n"
     ]
    }
   ],
   "source": [
    "print(\"Hello Capstone Project Course\")"
   ]
  },
  {
   "cell_type": "markdown",
   "metadata": {},
   "source": [
    "# BATTLE OF THE NEIGHBORHOODS - OAK PARK VS. EVANSTON, IL"
   ]
  },
  {
   "cell_type": "markdown",
   "metadata": {},
   "source": [
    "### INTRODUCTION & BUSINESS PROBLEM"
   ]
  },
  {
   "cell_type": "markdown",
   "metadata": {},
   "source": [
    "In this notebook we will analyze two afluent suburbs of Chicago, IL.\n",
    "\n",
    "The suburbs are Evanston and Oak Park. \n",
    "\n",
    "Evanston, which is 12 miles (19 km) north of Chicago, is known for being home to Northwestern University, a well-known college.<sup>1</sup>\n",
    "\n",
    "Oak Park, on the other hand, sits 10 miles (16 km) west of Chicago, and it is known for architect Frank Lloyd Wright and writer Ernest Hemingway. <sup>2</sup>\n",
    "\n",
    "Both places are the most common consideration for couples with kids looking to move out of Chicago for more space while retaining easy access to the city. \n",
    "\n",
    "Evanston and Oak Park have good schools, and similar real estate markets. Access to Chicago is easy by using both train or the subway system, in addition to interstates for car access. \n",
    "\n",
    "This project aims to help couples make an informed decision based on their personal preferences. \n",
    "\n",
    "<sup>1</sup> https://en.wikipedia.org/wiki/Evanston,_Illinois\n",
    "\n",
    "<sup>2</sup> https://en.wikipedia.org/wiki/Oak_Park,_Illinois"
   ]
  },
  {
   "cell_type": "markdown",
   "metadata": {},
   "source": [
    "### DATA REQUIREMENTS\n"
   ]
  },
  {
   "cell_type": "markdown",
   "metadata": {},
   "source": [
    "For this study, we will leverage data from Python library Geocode & Foursquare to compare Evanston and Oak Park based on a variety of options including restaurants, entertainment, and public interest places. Here's how I will get & process the data for this notebook: \n",
    "\n",
    "1) From Geocode I will create a querry to get the latitude and longitude of both Evanston and Oak Park\n",
    "\n",
    "2) I will then utilize the Foursquare API to fetch data on all the venues and point of interest within 1km of the latitude and longitude acquired in step # 1\n",
    "\n",
    "3) I will process and clean-up the json file in order to convert to a dataframe and use with the pandas library\n",
    "\n",
    "4) With the dataframe we will use one hot encoding and classify each venue type by frequencies for both neighborhoods. This should make comparison straighforward\n",
    "\n",
    "5) Finally we will leverage clustering and other machine learning methods to further deepen our analysis and compare how similar or dissimilar both neighborhoods are\n",
    "\n",
    " "
   ]
  }
 ],
 "metadata": {
  "kernelspec": {
   "display_name": "Python 3",
   "language": "python",
   "name": "python3"
  },
  "language_info": {
   "codemirror_mode": {
    "name": "ipython",
    "version": 3
   },
   "file_extension": ".py",
   "mimetype": "text/x-python",
   "name": "python",
   "nbconvert_exporter": "python",
   "pygments_lexer": "ipython3",
   "version": "3.7.4"
  }
 },
 "nbformat": 4,
 "nbformat_minor": 1
}
